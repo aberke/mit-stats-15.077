{
 "cells": [
  {
   "cell_type": "markdown",
   "metadata": {},
   "source": [
    "# 15.077: Problem Set 1 \n",
    "\n",
    "Alex Berke (aberke)"
   ]
  },
  {
   "cell_type": "code",
   "execution_count": 89,
   "metadata": {},
   "outputs": [],
   "source": [
    "%config Completer.use_jedi = False # autocomplete\n",
    "\n",
    "import numpy as np\n",
    "import pandas as pd\n",
    "\n",
    "import matplotlib.pyplot as plt\n",
    "%matplotlib inline\n",
    "%config InlineBackend.figure_format = 'retina'"
   ]
  },
  {
   "cell_type": "markdown",
   "metadata": {},
   "source": [
    "### 7.28: \n",
    "In surveys, it is difficult to obtain accurate answers to sensitive questions such as ”Have you ever used heroin?” or ”Have you ever cheated on an exam?” Warner (1965) introduced the method of randomized response to deal with such situations. A respondent spins an arrow on a wheel or draws a ball from an urn containing balls of two colors to determine which of two statements to respond to: (1) ”I have characteristic A,” or (2) ”I do not have characteristic A.” The interviewer does not know which statement is being responded to but merely records a yes or a no. The hope is that an interviewee is more likely to answer truthfully if he or she realizes that the interviewer does not know which statement is being responded to. \n",
    "\n",
    "-  Let R be the proportion of a sample answering Yes. \n",
    "- Let p be the probability that statement 1 is responded to (p is known from the structure of the randomizing device),\n",
    "- Let q be the proportion of the population that has characteristic A. \n",
    "- Let r be the probability that a respondent answers Yes. \n"
   ]
  },
  {
   "cell_type": "markdown",
   "metadata": {},
   "source": [
    "### a. \n",
    "Show that r = (2p − 1)q + (1 − p). \n",
    "\n",
    "[Hint: P(yes) = P( yes given question 1) × P( question 1) + P(yes given question 2) × P(question 2).] \n",
    "\n",
    "Answer:\n",
    "\n",
    "Let\n",
    "- (A) : \"respondent has A\"\n",
    "- (notA) : \"respondent does not have  A\"\n",
    "\n",
    "P(YES) = P(YES given A) x P(given 1) + P(YES given notA) x P(YES given 2)\n",
    "\n",
    "= q x p + (1-q) x (1-p)\n",
    "\n",
    "= pq + 1 - q - p + pq\n",
    "\n",
    "= 2pq - q +  1  - p\n",
    "\n",
    "= (2p - 1)q + (1  - p)"
   ]
  },
  {
   "cell_type": "markdown",
   "metadata": {},
   "source": [
    "### b\n",
    "If r were known, how could q be determined? \n",
    "\n",
    "r and p are both known. By rearranging the terms we can then solve for q.\n",
    "\n",
    "r = (2p − 1)q + (1 − p)\n",
    "\n",
    "r - (1 − p) = (2p − 1)q \n",
    "\n",
    "r + p - 1 = (2p − 1)q\n",
    "\n",
    "r + p - 1/ (2p − 1) = q "
   ]
  },
  {
   "cell_type": "markdown",
   "metadata": {},
   "source": [
    "###  c.\n",
    "Show that E(R) = r, and propose an estimate, Q, for q. Show that the estimate is unbiased.\n",
    "\n",
    "For each respondent, xi, if respondent answered Yes, then xi=1; otherwise if the respondent answered No then xi = 0.\n",
    "\n",
    "r is then the population mean. \n",
    "\n",
    "E(R) = r then follows from Lemma A in chapter 7.3.\n",
    "\n",
    "q is the proportion of the population that has characteristic A. \n",
    "\n",
    "Q is then the proportion of the sample that has characteristic A.\n",
    "\n",
    "A similar result follows:\n",
    "\n",
    "E(Q) = q.\n",
    "\n",
    "These estimates  are unbiased because  they use  the  true known population parameters, p and q."
   ]
  },
  {
   "cell_type": "markdown",
   "metadata": {},
   "source": [
    "### d. \n",
    "Ignoring the finite population correction, show that \n",
    "\n",
    "Var(R) = r(1 − r) / n \n",
    "\n",
    "where n is the sample size. \n",
    "\n",
    "The population variance var(r) is defined for the dichotomous case by Rice (section 7.2) as p(1-p).\n",
    "\n",
    "Ignoring  the finite population correction, can correct this for the sample value (R) by dividing by the sample size, n.\n",
    "\n",
    "\n",
    "###  e.\n",
    "Find an expression for Var(Q). \n",
    "\n",
    "q(1-q) / n\n",
    "\n",
    "This is shown similarly to d."
   ]
  },
  {
   "cell_type": "markdown",
   "metadata": {},
   "source": [
    "## 7.64: \n",
    "The value of an inventory is to be estimated by sampling. The items are stratified by book value in the following way:\n"
   ]
  },
  {
   "cell_type": "code",
   "execution_count": 43,
   "metadata": {},
   "outputs": [
    {
     "data": {
      "text/html": [
       "<div>\n",
       "<style scoped>\n",
       "    .dataframe tbody tr th:only-of-type {\n",
       "        vertical-align: middle;\n",
       "    }\n",
       "\n",
       "    .dataframe tbody tr th {\n",
       "        vertical-align: top;\n",
       "    }\n",
       "\n",
       "    .dataframe thead th {\n",
       "        text-align: right;\n",
       "    }\n",
       "</style>\n",
       "<table border=\"1\" class=\"dataframe\">\n",
       "  <thead>\n",
       "    <tr style=\"text-align: right;\">\n",
       "      <th></th>\n",
       "      <th>$N_l$</th>\n",
       "      <th>$\\mu_l$</th>\n",
       "      <th>$\\sigma_l$</th>\n",
       "    </tr>\n",
       "    <tr>\n",
       "      <th>stratum</th>\n",
       "      <th></th>\n",
       "      <th></th>\n",
       "      <th></th>\n",
       "    </tr>\n",
       "  </thead>\n",
       "  <tbody>\n",
       "    <tr>\n",
       "      <th>$1000+</th>\n",
       "      <td>70</td>\n",
       "      <td>3000</td>\n",
       "      <td>1250</td>\n",
       "    </tr>\n",
       "    <tr>\n",
       "      <th>$200 − 1000</th>\n",
       "      <td>500</td>\n",
       "      <td>500</td>\n",
       "      <td>100</td>\n",
       "    </tr>\n",
       "    <tr>\n",
       "      <th>$1 − 200</th>\n",
       "      <td>10000</td>\n",
       "      <td>90</td>\n",
       "      <td>30</td>\n",
       "    </tr>\n",
       "  </tbody>\n",
       "</table>\n",
       "</div>"
      ],
      "text/plain": [
       "             $N_l$  $\\mu_l$  $\\sigma_l$\n",
       "stratum                                \n",
       "$1000+          70     3000        1250\n",
       "$200 − 1000    500      500         100\n",
       "$1 − 200     10000       90          30"
      ]
     },
     "execution_count": 43,
     "metadata": {},
     "output_type": "execute_result"
    }
   ],
   "source": [
    "inventory = pd.DataFrame({\n",
    "    'stratum': ['$1000+', '$200 − 1000', '$1 − 200'],\n",
    "    '$N_l$': [70,500,10000],\n",
    "    '$\\mu_l$': [3000,500,90],\n",
    "    '$\\sigma_l$': [1250, 100,30],\n",
    "}).set_index('stratum')\n",
    "inventory"
   ]
  },
  {
   "cell_type": "markdown",
   "metadata": {},
   "source": [
    "### a. \n",
    "What should the relative sampling fraction in each stratum be for proportional and for optimal allocation? Ignore the finite population correction. "
   ]
  },
  {
   "cell_type": "code",
   "execution_count": 45,
   "metadata": {},
   "outputs": [
    {
     "name": "stdout",
     "output_type": "stream",
     "text": [
      "n = 10570\n"
     ]
    },
    {
     "data": {
      "text/html": [
       "<div>\n",
       "<style scoped>\n",
       "    .dataframe tbody tr th:only-of-type {\n",
       "        vertical-align: middle;\n",
       "    }\n",
       "\n",
       "    .dataframe tbody tr th {\n",
       "        vertical-align: top;\n",
       "    }\n",
       "\n",
       "    .dataframe thead th {\n",
       "        text-align: right;\n",
       "    }\n",
       "</style>\n",
       "<table border=\"1\" class=\"dataframe\">\n",
       "  <thead>\n",
       "    <tr style=\"text-align: right;\">\n",
       "      <th></th>\n",
       "      <th>$N_l$</th>\n",
       "      <th>$\\mu_l$</th>\n",
       "      <th>$\\sigma_l$</th>\n",
       "      <th>$W_l$</th>\n",
       "    </tr>\n",
       "    <tr>\n",
       "      <th>stratum</th>\n",
       "      <th></th>\n",
       "      <th></th>\n",
       "      <th></th>\n",
       "      <th></th>\n",
       "    </tr>\n",
       "  </thead>\n",
       "  <tbody>\n",
       "    <tr>\n",
       "      <th>$1000+</th>\n",
       "      <td>70</td>\n",
       "      <td>3000</td>\n",
       "      <td>1250</td>\n",
       "      <td>0.006623</td>\n",
       "    </tr>\n",
       "    <tr>\n",
       "      <th>$200 − 1000</th>\n",
       "      <td>500</td>\n",
       "      <td>500</td>\n",
       "      <td>100</td>\n",
       "      <td>0.047304</td>\n",
       "    </tr>\n",
       "    <tr>\n",
       "      <th>$1 − 200</th>\n",
       "      <td>10000</td>\n",
       "      <td>90</td>\n",
       "      <td>30</td>\n",
       "      <td>0.946074</td>\n",
       "    </tr>\n",
       "  </tbody>\n",
       "</table>\n",
       "</div>"
      ],
      "text/plain": [
       "             $N_l$  $\\mu_l$  $\\sigma_l$     $W_l$\n",
       "stratum                                          \n",
       "$1000+          70     3000        1250  0.006623\n",
       "$200 − 1000    500      500         100  0.047304\n",
       "$1 − 200     10000       90          30  0.946074"
      ]
     },
     "execution_count": 45,
     "metadata": {},
     "output_type": "execute_result"
    }
   ],
   "source": [
    "n = inventory['$N_l$'].sum()\n",
    "print('n = %s' % n)\n",
    "# add in sampling fraction, W\n",
    "inventory['$W_l$'] = inventory['$N_l$']/n\n",
    "inventory"
   ]
  },
  {
   "cell_type": "code",
   "execution_count": 49,
   "metadata": {},
   "outputs": [
    {
     "name": "stdout",
     "output_type": "stream",
     "text": [
      "for proportional allocation, the relative sampling fractions should be the following:\n"
     ]
    },
    {
     "data": {
      "text/html": [
       "<div>\n",
       "<style scoped>\n",
       "    .dataframe tbody tr th:only-of-type {\n",
       "        vertical-align: middle;\n",
       "    }\n",
       "\n",
       "    .dataframe tbody tr th {\n",
       "        vertical-align: top;\n",
       "    }\n",
       "\n",
       "    .dataframe thead th {\n",
       "        text-align: right;\n",
       "    }\n",
       "</style>\n",
       "<table border=\"1\" class=\"dataframe\">\n",
       "  <thead>\n",
       "    <tr style=\"text-align: right;\">\n",
       "      <th></th>\n",
       "      <th>$W_l$</th>\n",
       "    </tr>\n",
       "    <tr>\n",
       "      <th>stratum</th>\n",
       "      <th></th>\n",
       "    </tr>\n",
       "  </thead>\n",
       "  <tbody>\n",
       "    <tr>\n",
       "      <th>$1000+</th>\n",
       "      <td>0.006623</td>\n",
       "    </tr>\n",
       "    <tr>\n",
       "      <th>$200 − 1000</th>\n",
       "      <td>0.047304</td>\n",
       "    </tr>\n",
       "    <tr>\n",
       "      <th>$1 − 200</th>\n",
       "      <td>0.946074</td>\n",
       "    </tr>\n",
       "  </tbody>\n",
       "</table>\n",
       "</div>"
      ],
      "text/plain": [
       "                $W_l$\n",
       "stratum              \n",
       "$1000+       0.006623\n",
       "$200 − 1000  0.047304\n",
       "$1 − 200     0.946074"
      ]
     },
     "execution_count": 49,
     "metadata": {},
     "output_type": "execute_result"
    }
   ],
   "source": [
    "# proportional allocation\n",
    "# n_l / n = W_l\n",
    "print('for proportional allocation, the relative sampling fractions should be the following:')\n",
    "inventory['$W_l$'].to_frame()"
   ]
  },
  {
   "cell_type": "code",
   "execution_count": 56,
   "metadata": {},
   "outputs": [
    {
     "name": "stdout",
     "output_type": "stream",
     "text": [
      "relative sampling fraction for optimal allocation is the following:\n"
     ]
    },
    {
     "data": {
      "text/html": [
       "<div>\n",
       "<style scoped>\n",
       "    .dataframe tbody tr th:only-of-type {\n",
       "        vertical-align: middle;\n",
       "    }\n",
       "\n",
       "    .dataframe tbody tr th {\n",
       "        vertical-align: top;\n",
       "    }\n",
       "\n",
       "    .dataframe thead th {\n",
       "        text-align: right;\n",
       "    }\n",
       "</style>\n",
       "<table border=\"1\" class=\"dataframe\">\n",
       "  <thead>\n",
       "    <tr style=\"text-align: right;\">\n",
       "      <th></th>\n",
       "      <th>sampling fraction</th>\n",
       "    </tr>\n",
       "    <tr>\n",
       "      <th>stratum</th>\n",
       "      <th></th>\n",
       "    </tr>\n",
       "  </thead>\n",
       "  <tbody>\n",
       "    <tr>\n",
       "      <th>$1000+</th>\n",
       "      <td>0.200000</td>\n",
       "    </tr>\n",
       "    <tr>\n",
       "      <th>$200 − 1000</th>\n",
       "      <td>0.114286</td>\n",
       "    </tr>\n",
       "    <tr>\n",
       "      <th>$1 − 200</th>\n",
       "      <td>0.685714</td>\n",
       "    </tr>\n",
       "  </tbody>\n",
       "</table>\n",
       "</div>"
      ],
      "text/plain": [
       "             sampling fraction\n",
       "stratum                       \n",
       "$1000+                0.200000\n",
       "$200 − 1000           0.114286\n",
       "$1 − 200              0.685714"
      ]
     },
     "execution_count": 56,
     "metadata": {},
     "output_type": "execute_result"
    }
   ],
   "source": [
    "# optimal allocation\n",
    "# n_l / n = [W_l * sigma_l] / SUM (W_k * sigma_k)\n",
    "\n",
    "denominator = (inventory['$W_l$']*inventory['$\\sigma_l$']).sum()\n",
    "so = (inventory['$W_l$'] * inventory['$\\sigma_l$'])/denominator\n",
    "print('relative sampling fraction for optimal allocation is the following:')\n",
    "so.rename('sampling fraction').to_frame()"
   ]
  },
  {
   "cell_type": "markdown",
   "metadata": {},
   "source": [
    "\n",
    "### b. \n",
    "How do the variances under each type of allocation compare to each other and to the variance under simple random sampling?"
   ]
  },
  {
   "cell_type": "code",
   "execution_count": 62,
   "metadata": {},
   "outputs": [
    {
     "name": "stdout",
     "output_type": "stream",
     "text": [
      "𝜎_bar = 41.390728476821195\n"
     ]
    }
   ],
   "source": [
    "# comparing each type of allocation:\n",
    "# first we compute σ_bar\n",
    "\n",
    "sigma_bar = (inventory['$W_l$']*inventory['$\\sigma_l$']).sum()\n",
    "print('𝜎_bar = %s' % sigma_bar)"
   ]
  },
  {
   "cell_type": "markdown",
   "metadata": {},
   "source": [
    "We can compare Var(Xsp) and Var(Xso)\n",
    "\n",
    "where  Xsp is the sample mean from proportion allocaiton and Xso is from optimal allocation."
   ]
  },
  {
   "cell_type": "markdown",
   "metadata": {},
   "source": [
    "Computing\n",
    "\n",
    "Var(Xsp) − Var(Xso) = 1/n x SUM( Wl x (σ_l−σ_bar)^2 )"
   ]
  },
  {
   "cell_type": "code",
   "execution_count": 79,
   "metadata": {},
   "outputs": [
    {
     "name": "stdout",
     "output_type": "stream",
     "text": [
      "= 0.9421942314684617\n"
     ]
    }
   ],
   "source": [
    "diff = (1/n) * (inventory['$W_l$'] * ((inventory['$\\sigma_l$'] - sigma_bar)**2)).sum()\n",
    "print('= %s' % diff)"
   ]
  },
  {
   "cell_type": "markdown",
   "metadata": {},
   "source": [
    "using example B from Rice (p 236) as reference:\n",
    "\n",
    "We compute Var(Xsp) / Var(Xso)\n",
    "\n",
    "Var(Xsp) / Var(Xso)  = 1 + SUM( W_l x (σ_l - σ_bar)^2 )  / ( SUM(Wl x σ_l) )^2\n",
    "\n"
   ]
  },
  {
   "cell_type": "code",
   "execution_count": 80,
   "metadata": {},
   "outputs": [
    {
     "name": "stdout",
     "output_type": "stream",
     "text": [
      "numerator = 9958.99302662164\n",
      "denominator = 1713.192403841937\n",
      "1 + 5.81312 = 6.81312\n"
     ]
    }
   ],
   "source": [
    "# computing  the numerator on right hand  side\n",
    "\n",
    "numerator = (inventory['$W_l$']*((inventory['$\\sigma_l$'] - sigma_bar)**2)).sum()\n",
    "print('numerator = %s' % numerator)\n",
    "denominator = ((inventory['$W_l$']*inventory['$\\sigma_l$']).sum())**2\n",
    "print('denominator = %s' % denominator)\n",
    "\n",
    "print('1 + %s = %s' % (numerator/denominator, 1 + numerator/denominator))"
   ]
  },
  {
   "cell_type": "markdown",
   "metadata": {},
   "source": [
    "It seems  that under proportional allocation, the variance of the mean could  be about 580% larger than under optimal allocation."
   ]
  },
  {
   "cell_type": "markdown",
   "metadata": {},
   "source": [
    "Comparing the  variance of the mean under simple random sampling (Xsrs) to other allocation methods:\n",
    "\n"
   ]
  },
  {
   "cell_type": "markdown",
   "metadata": {},
   "source": [
    "Var (Xsrs) / Var(Xsp) = 1 + SUM (W_l x (μ_l - μ_bar)^2"
   ]
  },
  {
   "cell_type": "code",
   "execution_count": 82,
   "metadata": {},
   "outputs": [
    {
     "name": "stdout",
     "output_type": "stream",
     "text": [
      "μ_bar = 128.66603595080417\n"
     ]
    }
   ],
   "source": [
    "# first compute μ_bar\n",
    "u_bar = (1/n) * (inventory['$N_l$']*inventory['$\\mu_l$']).sum()\n",
    "print('μ_bar = %s' % u_bar)"
   ]
  },
  {
   "cell_type": "code",
   "execution_count": 83,
   "metadata": {},
   "outputs": [
    {
     "name": "stdout",
     "output_type": "stream",
     "text": [
      "numerator = 62536.8203507007\n",
      "denominator = 11672.185430463576\n",
      "1 + 5.357764466925279 = 6.357764466925279\n"
     ]
    }
   ],
   "source": [
    "numerator = (inventory['$W_l$'] * (inventory['$\\mu_l$'] - u_bar)**2).sum()\n",
    "print('numerator = %s' % numerator)\n",
    "denominator = (inventory['$W_l$']*(inventory['$\\sigma_l$'])**2).sum()\n",
    "print('denominator = %s' % denominator)\n",
    "print('1 + %s = %s' %  (numerator/denominator, 1+ numerator/denominator))"
   ]
  },
  {
   "cell_type": "markdown",
   "metadata": {},
   "source": [
    "Variance  about the mean for simple random sampling is  about 540% greater than for proportional allocation.\n",
    "\n",
    "Comparing simple  random sampling to optimal allocation:\n",
    "\n",
    "We can use\n",
    "\n",
    "Var (Xsrs) / Var (Xso) = (Var (Xsrs) / Var(Xsp)) x (Var(Xsp) / Var(Xso))\n",
    "\n",
    "Where the right hand side values  were previously  computed.\n",
    "\n",
    "i.e.\n",
    "\n",
    "Var (Xsrs) / Var (Xso) = 6.357764466925279 x 6.81312"
   ]
  },
  {
   "cell_type": "code",
   "execution_count": 84,
   "metadata": {},
   "outputs": [
    {
     "data": {
      "text/plain": [
       "43.316212244897955"
      ]
     },
     "execution_count": 84,
     "metadata": {},
     "output_type": "execute_result"
    }
   ],
   "source": [
    "6.357764466925279 * 6.81312"
   ]
  },
  {
   "cell_type": "markdown",
   "metadata": {},
   "source": [
    "The variance of the mean for simple random sampling  is about 4332% greater than for optimal allocation."
   ]
  },
  {
   "cell_type": "markdown",
   "metadata": {},
   "source": [
    "## 8.44: \n",
    "\n",
    "The file bodytemp contains normal body temperature readings (degrees Fahrenheit) and heart rates (beats per minute) of 65 males (coded by 1) and 65 females (coded by 2) from Shoemaker (1996). Assuming that the population distributions are normal (an assumption that will be investigated in a later chapter), estimate the means and standard deviations of the males and females. Form 95% confidence intervals for the means. \n",
    "\n",
    "Standard folklore is that the average body temperature is 98.6 degrees Fahrenheit. Does this appear to be the case?"
   ]
  },
  {
   "cell_type": "code",
   "execution_count": 7,
   "metadata": {},
   "outputs": [
    {
     "data": {
      "text/html": [
       "<div>\n",
       "<style scoped>\n",
       "    .dataframe tbody tr th:only-of-type {\n",
       "        vertical-align: middle;\n",
       "    }\n",
       "\n",
       "    .dataframe tbody tr th {\n",
       "        vertical-align: top;\n",
       "    }\n",
       "\n",
       "    .dataframe thead th {\n",
       "        text-align: right;\n",
       "    }\n",
       "</style>\n",
       "<table border=\"1\" class=\"dataframe\">\n",
       "  <thead>\n",
       "    <tr style=\"text-align: right;\">\n",
       "      <th></th>\n",
       "      <th>temperature</th>\n",
       "      <th>gender</th>\n",
       "      <th>rate</th>\n",
       "    </tr>\n",
       "  </thead>\n",
       "  <tbody>\n",
       "    <tr>\n",
       "      <th>0</th>\n",
       "      <td>96.3</td>\n",
       "      <td>1</td>\n",
       "      <td>70</td>\n",
       "    </tr>\n",
       "    <tr>\n",
       "      <th>1</th>\n",
       "      <td>96.7</td>\n",
       "      <td>1</td>\n",
       "      <td>71</td>\n",
       "    </tr>\n",
       "    <tr>\n",
       "      <th>2</th>\n",
       "      <td>96.9</td>\n",
       "      <td>1</td>\n",
       "      <td>74</td>\n",
       "    </tr>\n",
       "    <tr>\n",
       "      <th>3</th>\n",
       "      <td>97.0</td>\n",
       "      <td>1</td>\n",
       "      <td>80</td>\n",
       "    </tr>\n",
       "    <tr>\n",
       "      <th>4</th>\n",
       "      <td>97.1</td>\n",
       "      <td>1</td>\n",
       "      <td>73</td>\n",
       "    </tr>\n",
       "  </tbody>\n",
       "</table>\n",
       "</div>"
      ],
      "text/plain": [
       "   temperature  gender  rate\n",
       "0         96.3       1    70\n",
       "1         96.7       1    71\n",
       "2         96.9       1    74\n",
       "3         97.0       1    80\n",
       "4         97.1       1    73"
      ]
     },
     "execution_count": 7,
     "metadata": {},
     "output_type": "execute_result"
    }
   ],
   "source": [
    "bodytemp = pd.read_csv('bodytemp.txt')\n",
    "bodytemp.head()"
   ]
  },
  {
   "cell_type": "code",
   "execution_count": 23,
   "metadata": {},
   "outputs": [
    {
     "name": "stdout",
     "output_type": "stream",
     "text": [
      "males: n = 65\n",
      "females: n = 65\n"
     ]
    }
   ],
   "source": [
    "males = bodytemp[bodytemp['gender']==1]\n",
    "females = bodytemp[bodytemp['gender']==2]\n",
    "\n",
    "n_males = len(males)\n",
    "n_females = len(females)\n",
    "print('males: n = %s' % n_males)\n",
    "print('females: n = %s' % n_females)"
   ]
  },
  {
   "cell_type": "code",
   "execution_count": 25,
   "metadata": {},
   "outputs": [
    {
     "data": {
      "text/plain": [
       "<matplotlib.legend.Legend at 0x7fa82bdd6f60>"
      ]
     },
     "execution_count": 25,
     "metadata": {},
     "output_type": "execute_result"
    },
    {
     "data": {
      "image/png": "[encoded data removed]",
      "text/plain": [
       "<Figure size 720x576 with 2 Axes>"
      ]
     },
     "metadata": {
      "image/png": {
       "height": 481,
       "width": 608
      },
      "needs_background": "light"
     },
     "output_type": "display_data"
    }
   ],
   "source": [
    "fig, ax = plt.subplots(2, figsize=(10, 8))\n",
    "temp_ax = ax[0]\n",
    "rate_ax = ax[1]\n",
    "\n",
    "temp_ax.hist(males['temperature'], label='males', alpha=0.5)\n",
    "temp_ax.hist(females['temperature'], label='females', alpha=0.5)\n",
    "temp_ax.set_title('body temperature')\n",
    "temp_ax.legend()\n",
    "\n",
    "rate_ax.hist(males['rate'], label='males', alpha=0.5)\n",
    "rate_ax.hist(females['rate'], label='females', alpha=0.5)\n",
    "rate_ax.set_title('heart rate')\n",
    "rate_ax.legend()"
   ]
  },
  {
   "cell_type": "markdown",
   "metadata": {},
   "source": [
    "The following  are estimates of the means and standard deviations for males and females, temperature and heart rate."
   ]
  },
  {
   "cell_type": "code",
   "execution_count": 93,
   "metadata": {},
   "outputs": [
    {
     "name": "stdout",
     "output_type": "stream",
     "text": [
      "mean temperature for males = 98.1046153846154\n",
      "standard deviation for males temperature = 0.6933598841828699\n",
      "mean temperature for females = 98.39384615384616\n",
      "standard deviation for females temperature = 0.7377464486428966\n",
      "mean heart rate for males = 73.36923076923077\n",
      "standard deviation for males heart rate = 5.829815225384951\n",
      "mean heart rate for females = 74.15384615384616\n",
      "standard deviation for females heart rate = 5.882377653968278\n"
     ]
    }
   ],
   "source": [
    "mean_temp_males = (1/n_males)*males['temperature'].sum()\n",
    "mean_temp_females = (1/n_females)*females['temperature'].sum()\n",
    "std_temp_males = np.sqrt((1/n_males)*((males['temperature'] - mean_temp_males)**2).sum())\n",
    "std_temp_females = np.sqrt((1/n_females)*((females['temperature'] - mean_temp_females)**2).sum())\n",
    "\n",
    "mean_hrate_males = (1/n_males)*males['rate'].sum()\n",
    "mean_hrate_females = (1/n_males)*females['rate'].sum()\n",
    "std_hrate_males = np.sqrt((1/n_males)*((males['rate'] - mean_hrate_males)**2).sum())\n",
    "std_hrate_females = np.sqrt((1/n_females)*((males['rate'] - mean_hrate_females)**2).sum())\n",
    "\n",
    "\n",
    "print('mean temperature for males = %s' % mean_temp_males)\n",
    "print('standard deviation for males temperature = %s' % std_temp_males)\n",
    "print('mean temperature for females = %s' % mean_temp_females)\n",
    "print('standard deviation for females temperature = %s' % std_temp_females)\n",
    "print('mean heart rate for males = %s' % mean_hrate_males)\n",
    "print('standard deviation for males heart rate = %s' % std_hrate_males)\n",
    "print('mean heart rate for females = %s' % mean_hrate_females)\n",
    "print('standard deviation for females heart rate = %s' % std_hrate_females)\n"
   ]
  },
  {
   "cell_type": "markdown",
   "metadata": {},
   "source": [
    "To form 95% confidence intervals we might  use a t distribution given that the true population parameters are unknown.\n",
    "\n",
    "The degrees of freedom are 65-1=64.  i.e. closest to 60 in Rice's t distribution table. The corresponding alpha value is 1.671.\n",
    "\n",
    "Rice  also notes  that for more than 20 or  30 degrees of freedom, the  standard normal distribution and t distributions are very  close, for which case a standard normal distribution can be used.\n",
    "\n",
    "For this  reason, I  will use standard normal distribution values.\n",
    "i.e. 1.96.\n",
    "\n",
    "Note we will ignore the finite   population  correction and estimate the standard   error about the  mean  as \n",
    "\n",
    "s_bar = s  / sqrt(n)\n",
    "\n",
    "where s is the previous  computed standard deviation. This is the estimated population  standard deviation in terms of the  sample  data."
   ]
  },
  {
   "cell_type": "code",
   "execution_count": 102,
   "metadata": {},
   "outputs": [
    {
     "name": "stdout",
     "output_type": "stream",
     "text": [
      "95% confidence  interval for males average temperature\n",
      "[97.94, 98.27]\n",
      "95% confidence  interval for females average temperature\n",
      "[98.21, 98.56]\n",
      "95% confidence  interval for males average heart rate\n",
      "[71.95, 74.79]\n",
      "95% confidence  interval for females average heart rate\n",
      "[72.72, 75.58]\n"
     ]
    }
   ],
   "source": [
    "# 95% CI for temp\n",
    "\n",
    "print('95% confidence interval for males average temperature')\n",
    "mt_ci_low = mean_temp_males - 1.96*(std_temp_males/np.sqrt(n_males))\n",
    "mt_ci_high = mean_temp_males + 1.96*(std_temp_males/np.sqrt(n_males))\n",
    "print('[%s, %s]' % (round(mt_ci_low, 2), round(mt_ci_high, 2)))\n",
    "\n",
    "print('95% confidence  interval for females average temperature')\n",
    "ft_ci_low = mean_temp_females - 1.96*(std_temp_females/np.sqrt(n_females))\n",
    "ft_ci_high = mean_temp_females + 1.96*(std_temp_males/np.sqrt(n_females))\n",
    "print('[%s, %s]' % (round(ft_ci_low, 2), round(ft_ci_high, 2)))\n",
    "\n",
    "# 95% CI for heart rate\n",
    "\n",
    "print('95% confidence  interval for males average heart rate')\n",
    "mhr_ci_low = mean_hrate_males - 1.96*(std_hrate_males/np.sqrt(n_males))\n",
    "mhr_ci_high = mean_hrate_males + 1.96*(std_hrate_males/np.sqrt(n_males))\n",
    "print('[%s, %s]' % (round(mhr_ci_low, 2), round(mhr_ci_high, 2)))\n",
    "\n",
    "print('95% confidence  interval for females average heart rate')\n",
    "fhr_ci_low = mean_hrate_females - 1.96*(std_hrate_females/np.sqrt(n_females))\n",
    "fhr_ci_high = mean_hrate_females + 1.96*(std_hrate_females/np.sqrt(n_females))\n",
    "print('[%s, %s]' % (round(fhr_ci_low, 2), round(fhr_ci_high, 2)))"
   ]
  },
  {
   "cell_type": "markdown",
   "metadata": {},
   "source": [
    "Standard folklore is that the average body temperature is 98.6 degrees Fahrenheit.\n",
    "\n",
    "Our males and females samples both have 95% confidence intervals slightly below this value. However, when rounding, the upper limit of the female 95% CI is 98.6.\n",
    "\n",
    "However, we can also look at the mean body  temperature across all samples,  without  stratifying by males vs females."
   ]
  },
  {
   "cell_type": "code",
   "execution_count": 105,
   "metadata": {},
   "outputs": [
    {
     "name": "stdout",
     "output_type": "stream",
     "text": [
      "n = 130\n",
      "sample mean temperature = 98.24923076923079\n",
      "sample standard deviation temperature = 0.730357778905038\n",
      "95% confidence  interval for average temperature (all samples)\n",
      "[98.12, 98.37]\n"
     ]
    }
   ],
   "source": [
    "n = len(bodytemp)\n",
    "print('n = %s' %  n)\n",
    "mean_temp = (1/n)*bodytemp['temperature'].sum()\n",
    "std_temp = np.sqrt((1/n)*((bodytemp['temperature'] - mean_temp)**2).sum())\n",
    "\n",
    "print('sample mean temperature = %s' % mean_temp)\n",
    "print('sample standard deviation temperature = %s' % std_temp)\n",
    "\n",
    "print('95% confidence  interval for average temperature (all samples)')\n",
    "t_ci_low = mean_temp - 1.96*(std_temp/np.sqrt(n))\n",
    "t_ci_high = mean_temp + 1.96*(std_temp/np.sqrt(n))\n",
    "print('[%s, %s]' % (round(t_ci_low, 2), round(t_ci_high, 2)))"
   ]
  },
  {
   "cell_type": "markdown",
   "metadata": {},
   "source": [
    "Our sample's 95% confidence interval still does not overlap with folklore."
   ]
  },
  {
   "cell_type": "code",
   "execution_count": null,
   "metadata": {},
   "outputs": [],
   "source": []
  }
 ],
 "metadata": {
  "kernelspec": {
   "display_name": "Python 3",
   "language": "python",
   "name": "python3"
  },
  "language_info": {
   "codemirror_mode": {
    "name": "ipython",
    "version": 3
   },
   "file_extension": ".py",
   "mimetype": "text/x-python",
   "name": "python",
   "nbconvert_exporter": "python",
   "pygments_lexer": "ipython3",
   "version": "3.7.1"
  }
 },
 "nbformat": 4,
 "nbformat_minor": 2
}
